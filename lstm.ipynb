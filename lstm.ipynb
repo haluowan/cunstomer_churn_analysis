{
  "nbformat": 4,
  "nbformat_minor": 0,
  "metadata": {
    "colab": {
      "name": "lstm.ipynb",
      "version": "0.3.2",
      "provenance": [],
      "collapsed_sections": [],
      "include_colab_link": true
    },
    "kernelspec": {
      "name": "python3",
      "display_name": "Python 3"
    },
    "accelerator": "GPU"
  },
  "cells": [
    {
      "cell_type": "markdown",
      "metadata": {
        "id": "view-in-github",
        "colab_type": "text"
      },
      "source": [
        "<a href=\"https://colab.research.google.com/github/haluowan/cunstomer_churn_analysis/blob/master/lstm.ipynb\" target=\"_parent\"><img src=\"https://colab.research.google.com/assets/colab-badge.svg\" alt=\"Open In Colab\"/></a>"
      ]
    },
    {
      "cell_type": "code",
      "metadata": {
        "id": "zD8YThFk0Hom",
        "colab_type": "code",
        "outputId": "7594a138-e23a-4789-bfc9-522a0f1b77d7",
        "colab": {
          "base_uri": "https://localhost:8080/",
          "height": 356
        }
      },
      "source": [
        "!pip install torch\n",
        "!pip install torchtext\n",
        "!python -m spacy download en"
      ],
      "execution_count": 6,
      "outputs": [
        {
          "output_type": "stream",
          "text": [
            "Requirement already satisfied: torch in /usr/local/lib/python3.6/dist-packages (1.1.0)\n",
            "Requirement already satisfied: numpy in /usr/local/lib/python3.6/dist-packages (from torch) (1.16.4)\n",
            "Requirement already satisfied: torchtext in /usr/local/lib/python3.6/dist-packages (0.3.1)\n",
            "Requirement already satisfied: numpy in /usr/local/lib/python3.6/dist-packages (from torchtext) (1.16.4)\n",
            "Requirement already satisfied: tqdm in /usr/local/lib/python3.6/dist-packages (from torchtext) (4.28.1)\n",
            "Requirement already satisfied: requests in /usr/local/lib/python3.6/dist-packages (from torchtext) (2.21.0)\n",
            "Requirement already satisfied: torch in /usr/local/lib/python3.6/dist-packages (from torchtext) (1.1.0)\n",
            "Requirement already satisfied: idna<2.9,>=2.5 in /usr/local/lib/python3.6/dist-packages (from requests->torchtext) (2.8)\n",
            "Requirement already satisfied: certifi>=2017.4.17 in /usr/local/lib/python3.6/dist-packages (from requests->torchtext) (2019.6.16)\n",
            "Requirement already satisfied: urllib3<1.25,>=1.21.1 in /usr/local/lib/python3.6/dist-packages (from requests->torchtext) (1.24.3)\n",
            "Requirement already satisfied: chardet<3.1.0,>=3.0.2 in /usr/local/lib/python3.6/dist-packages (from requests->torchtext) (3.0.4)\n",
            "Requirement already satisfied: en_core_web_sm==2.1.0 from https://github.com/explosion/spacy-models/releases/download/en_core_web_sm-2.1.0/en_core_web_sm-2.1.0.tar.gz#egg=en_core_web_sm==2.1.0 in /usr/local/lib/python3.6/dist-packages (2.1.0)\n",
            "\u001b[38;5;2m✔ Download and installation successful\u001b[0m\n",
            "You can now load the model via spacy.load('en_core_web_sm')\n",
            "\u001b[38;5;2m✔ Linking successful\u001b[0m\n",
            "/usr/local/lib/python3.6/dist-packages/en_core_web_sm -->\n",
            "/usr/local/lib/python3.6/dist-packages/spacy/data/en\n",
            "You can now load the model via spacy.load('en')\n"
          ],
          "name": "stdout"
        }
      ]
    },
    {
      "cell_type": "code",
      "metadata": {
        "id": "X4dLtgkA0d1M",
        "colab_type": "code",
        "colab": {}
      },
      "source": [
        "import torch\n",
        "from torch import nn,optim\n",
        "from torchtext import data,datasets\n",
        "import numpy as np"
      ],
      "execution_count": 0,
      "outputs": []
    },
    {
      "cell_type": "code",
      "metadata": {
        "id": "BlYtdxnu4J-_",
        "colab_type": "code",
        "colab": {}
      },
      "source": [
        "# 定义RNN模型\n",
        "class RNN(nn.Module):\n",
        "    def __init__(self,vocab_size,embedding_dim,hidden_dim):\n",
        "        super(RNN,self).__init__()\n",
        "\n",
        "        self.embedding= nn.Embedding(vocab_size,embedding_dim)\n",
        "        self.rnn = nn.LSTM(embedding_dim,hidden_dim,num_layers=2,\n",
        "                           bidirectional=True,dropout = 0.5)\n",
        "\n",
        "        self.fc = nn.Linear(hidden_dim*2,1)\n",
        "        self.dropout = nn.Dropout(0.5)\n",
        "\n",
        "    def forward(self,x):\n",
        "        embedding = self.dropout(self.embedding(x))\n",
        "        \n",
        "        output,(hidden,cell) = self.rnn(embedding)\n",
        "        \n",
        "        hidden = torch.cat([hidden[-2],hidden[-1]],dim=1)\n",
        "        \n",
        "        hidden = self.dropout(hidden)\n",
        "        out = self.fc(hidden)\n",
        "        \n",
        "        return out\n",
        "                "
      ],
      "execution_count": 0,
      "outputs": []
    },
    {
      "cell_type": "code",
      "metadata": {
        "id": "mP4FMXW9_6OE",
        "colab_type": "code",
        "colab": {}
      },
      "source": [
        "def binary_acc(preds,y):\n",
        "    \"\"\"\n",
        "    get accuracy\n",
        "    \"\"\"\n",
        "    preds = torch.round(torch.sigmoid(preds))\n",
        "    correct = torch.eq(preds,y).float()\n",
        "    acc = correct.sum() / len(correct)\n",
        "    return acc"
      ],
      "execution_count": 0,
      "outputs": []
    },
    {
      "cell_type": "code",
      "metadata": {
        "id": "c-8lfPHxAwuf",
        "colab_type": "code",
        "colab": {}
      },
      "source": [
        "def train(rnn,iterator,optimizer,criteon):\n",
        "    avg_acc = []\n",
        "    rnn.train()\n",
        "    \n",
        "    for i,batch in enumerate(iterator):\n",
        "        pred = rnn(batch.text).squeeze(1)\n",
        "        loss = criteon(pred,batch.label)\n",
        "        acc = binary_acc(pred,batch.label).item()\n",
        "        avg_acc.append(acc)\n",
        "        \n",
        "        optimizer.zero_grad()\n",
        "        loss.backward()\n",
        "        optimizer.step()\n",
        "        \n",
        "        if i%10 ==0:\n",
        "            print('Epoch:',i,'acc:',acc)\n",
        "            \n",
        "    avg_acc = np.array(avg_acc).mean()\n",
        "    print('avg_acc:',avg_acc)\n",
        "        "
      ],
      "execution_count": 0,
      "outputs": []
    },
    {
      "cell_type": "code",
      "metadata": {
        "id": "JKRdqk0TCviK",
        "colab_type": "code",
        "colab": {}
      },
      "source": [
        "def eval(rnn,iterator,criteon):\n",
        "    avg_acc = []\n",
        "    rnn.eval()\n",
        "    \n",
        "    with torch.no_grad():\n",
        "        for batch in iterator:\n",
        "            pred = rnn(batch.text).squeeze(1)\n",
        "            \n",
        "            loss = criteon(pred,batch.label)\n",
        "            \n",
        "            acc = binary_acc(pred,batch.label).item()\n",
        "            \n",
        "            avg_acc.append(acc)\n",
        "            \n",
        "    avg_acc = np.array(avg_acc).mean()\n",
        "    print('test_acc:',avg_acc)\n",
        "    \n"
      ],
      "execution_count": 0,
      "outputs": []
    },
    {
      "cell_type": "code",
      "metadata": {
        "id": "FSNFi0K_DxtT",
        "colab_type": "code",
        "colab": {}
      },
      "source": [
        "def main():\n",
        "    # 设置超参数\n",
        "    torch.manual_seed(123)\n",
        "    batchsz = 30\n",
        "\n",
        "\n",
        "    TEXT = data.Field(tokenize='spacy')\n",
        "    LABEL = data.LabelField(dtype=torch.float)\n",
        "    train_data,test_data = datasets.IMDB.splits(TEXT,LABEL)\n",
        "    print('len of train data:',len(train_data))\n",
        "    print('len of test data:',len(test_data))\n",
        "\n",
        "    # word2vec,glove\n",
        "    TEXT.build_vocab(train_data,max_size=10000,vectors='glove.6B.100d')\n",
        "    LABEL.build_vocab(train_data)\n",
        "    \n",
        "    \n",
        "    device = torch.device('cuda' if torch.cuda.is_available() else 'cpu')\n",
        "\n",
        "    train_iterator,test_iterator = data.BucketIterator.splits((train_data,test_data),\n",
        "                                                           batch_size = batchsz,\n",
        "                                                           device = device)\n",
        "    \n",
        "    \n",
        "    # 实例化网络模型\n",
        "    rnn = RNN(len(TEXT.vocab),100,256)\n",
        "    pretrained_embedding = TEXT.vocab.vectors\n",
        "    print('pretrained_embedding:',pretrained_embedding.shape)\n",
        "    \n",
        "    rnn.embedding.weight.data.copy_(pretrained_embedding)\n",
        "    print('embedding layer inited.')\n",
        "    \n",
        "    optimizer = optim.Adam(rnn.parameters(),lr=1e-3)\n",
        "    criteon = nn.BCEWithLogitsLoss().to(device)\n",
        "    rnn.to(device)\n",
        "       \n",
        "    for epoch in range(10):\n",
        "        eval(rnn,test_iterator,criteon)\n",
        "        train(rnn,train_iterator,optimizer,criteon)\n",
        "        "
      ],
      "execution_count": 0,
      "outputs": []
    },
    {
      "cell_type": "code",
      "metadata": {
        "id": "OgNH3cFDF0jM",
        "colab_type": "code",
        "colab": {
          "base_uri": "https://localhost:8080/",
          "height": 88
        },
        "outputId": "8161fe17-2f7f-4c8a-bd74-837293dd6cd0"
      },
      "source": [
        "# if__name__ == \"__main__\":\n",
        "main()"
      ],
      "execution_count": 0,
      "outputs": [
        {
          "output_type": "stream",
          "text": [
            "len of train data: 25000\n",
            "len of test data: 25000\n",
            "pretrained_embedding: torch.Size([10002, 100])\n",
            "embedding layer inited.\n"
          ],
          "name": "stdout"
        }
      ]
    }
  ]
}