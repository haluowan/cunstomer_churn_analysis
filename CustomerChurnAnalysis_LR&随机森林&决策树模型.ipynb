{
 "cells": [
  {
   "cell_type": "code",
   "execution_count": 2,
   "metadata": {
    "collapsed": true
   },
   "outputs": [],
   "source": [
    "import pandas as pd\n",
    "import numpy as np\n",
    "import matplotlib.pyplot as plt\n",
    "import matplotlib\n",
    "import seaborn as sns\n",
    "%matplotlib inline"
   ]
  },
  {
   "cell_type": "code",
   "execution_count": 3,
   "metadata": {
    "collapsed": true
   },
   "outputs": [],
   "source": [
    "df = pd.read_csv(r\"C:\\Users\\CDA\\Desktop\\model_data.csv\")"
   ]
  },
  {
   "cell_type": "code",
   "execution_count": 4,
   "metadata": {},
   "outputs": [
    {
     "data": {
      "text/html": [
       "<div>\n",
       "<style>\n",
       "    .dataframe thead tr:only-child th {\n",
       "        text-align: right;\n",
       "    }\n",
       "\n",
       "    .dataframe thead th {\n",
       "        text-align: left;\n",
       "    }\n",
       "\n",
       "    .dataframe tbody tr th {\n",
       "        vertical-align: top;\n",
       "    }\n",
       "</style>\n",
       "<table border=\"1\" class=\"dataframe\">\n",
       "  <thead>\n",
       "    <tr style=\"text-align: right;\">\n",
       "      <th></th>\n",
       "      <th>iforderpv_24h</th>\n",
       "      <th>hotelcr</th>\n",
       "      <th>ordercanncelednum</th>\n",
       "      <th>ordernum_oneyear</th>\n",
       "      <th>cr_pre</th>\n",
       "      <th>lowestprice</th>\n",
       "      <th>commentnums_pre</th>\n",
       "      <th>customer_value_profit</th>\n",
       "      <th>uv_pre2</th>\n",
       "      <th>lasthtlordergap</th>\n",
       "      <th>businessrate_pre2</th>\n",
       "      <th>cityuvs</th>\n",
       "      <th>cr</th>\n",
       "      <th>visitnum_oneyear</th>\n",
       "      <th>h</th>\n",
       "      <th>chr</th>\n",
       "      <th>label</th>\n",
       "    </tr>\n",
       "  </thead>\n",
       "  <tbody>\n",
       "    <tr>\n",
       "      <th>0</th>\n",
       "      <td>0</td>\n",
       "      <td>1.04</td>\n",
       "      <td>0</td>\n",
       "      <td>0</td>\n",
       "      <td>1.03</td>\n",
       "      <td>49</td>\n",
       "      <td>724.000000</td>\n",
       "      <td>0.0</td>\n",
       "      <td>74.956</td>\n",
       "      <td>527026</td>\n",
       "      <td>0.29</td>\n",
       "      <td>12.880</td>\n",
       "      <td>1.5</td>\n",
       "      <td>1315</td>\n",
       "      <td>12</td>\n",
       "      <td>0</td>\n",
       "      <td>0</td>\n",
       "    </tr>\n",
       "    <tr>\n",
       "      <th>1</th>\n",
       "      <td>0</td>\n",
       "      <td>1.06</td>\n",
       "      <td>0</td>\n",
       "      <td>0</td>\n",
       "      <td>1.07</td>\n",
       "      <td>619</td>\n",
       "      <td>5610.000000</td>\n",
       "      <td>0.0</td>\n",
       "      <td>224.920</td>\n",
       "      <td>527026</td>\n",
       "      <td>0.53</td>\n",
       "      <td>17.933</td>\n",
       "      <td>1.5</td>\n",
       "      <td>1315</td>\n",
       "      <td>14</td>\n",
       "      <td>0</td>\n",
       "      <td>1</td>\n",
       "    </tr>\n",
       "    <tr>\n",
       "      <th>2</th>\n",
       "      <td>0</td>\n",
       "      <td>1.05</td>\n",
       "      <td>0</td>\n",
       "      <td>0</td>\n",
       "      <td>1.12</td>\n",
       "      <td>312</td>\n",
       "      <td>4721.000000</td>\n",
       "      <td>0.0</td>\n",
       "      <td>112.063</td>\n",
       "      <td>527026</td>\n",
       "      <td>0.60</td>\n",
       "      <td>3.993</td>\n",
       "      <td>1.5</td>\n",
       "      <td>1315</td>\n",
       "      <td>19</td>\n",
       "      <td>1</td>\n",
       "      <td>0</td>\n",
       "    </tr>\n",
       "    <tr>\n",
       "      <th>3</th>\n",
       "      <td>0</td>\n",
       "      <td>1.01</td>\n",
       "      <td>0</td>\n",
       "      <td>0</td>\n",
       "      <td>1.01</td>\n",
       "      <td>198</td>\n",
       "      <td>41.000000</td>\n",
       "      <td>0.0</td>\n",
       "      <td>58.844</td>\n",
       "      <td>527026</td>\n",
       "      <td>0.18</td>\n",
       "      <td>3.220</td>\n",
       "      <td>1.5</td>\n",
       "      <td>1315</td>\n",
       "      <td>16</td>\n",
       "      <td>0</td>\n",
       "      <td>0</td>\n",
       "    </tr>\n",
       "    <tr>\n",
       "      <th>4</th>\n",
       "      <td>0</td>\n",
       "      <td>1.00</td>\n",
       "      <td>0</td>\n",
       "      <td>0</td>\n",
       "      <td>1.03</td>\n",
       "      <td>200</td>\n",
       "      <td>1415.159561</td>\n",
       "      <td>0.0</td>\n",
       "      <td>0.157</td>\n",
       "      <td>527026</td>\n",
       "      <td>0.40</td>\n",
       "      <td>0.013</td>\n",
       "      <td>1.5</td>\n",
       "      <td>1315</td>\n",
       "      <td>21</td>\n",
       "      <td>1</td>\n",
       "      <td>1</td>\n",
       "    </tr>\n",
       "  </tbody>\n",
       "</table>\n",
       "</div>"
      ],
      "text/plain": [
       "   iforderpv_24h  hotelcr  ordercanncelednum  ordernum_oneyear  cr_pre  \\\n",
       "0              0     1.04                  0                 0    1.03   \n",
       "1              0     1.06                  0                 0    1.07   \n",
       "2              0     1.05                  0                 0    1.12   \n",
       "3              0     1.01                  0                 0    1.01   \n",
       "4              0     1.00                  0                 0    1.03   \n",
       "\n",
       "   lowestprice  commentnums_pre  customer_value_profit  uv_pre2  \\\n",
       "0           49       724.000000                    0.0   74.956   \n",
       "1          619      5610.000000                    0.0  224.920   \n",
       "2          312      4721.000000                    0.0  112.063   \n",
       "3          198        41.000000                    0.0   58.844   \n",
       "4          200      1415.159561                    0.0    0.157   \n",
       "\n",
       "   lasthtlordergap  businessrate_pre2  cityuvs   cr  visitnum_oneyear   h  \\\n",
       "0           527026               0.29   12.880  1.5              1315  12   \n",
       "1           527026               0.53   17.933  1.5              1315  14   \n",
       "2           527026               0.60    3.993  1.5              1315  19   \n",
       "3           527026               0.18    3.220  1.5              1315  16   \n",
       "4           527026               0.40    0.013  1.5              1315  21   \n",
       "\n",
       "   chr  label  \n",
       "0    0      0  \n",
       "1    0      1  \n",
       "2    1      0  \n",
       "3    0      0  \n",
       "4    1      1  "
      ]
     },
     "execution_count": 4,
     "metadata": {},
     "output_type": "execute_result"
    }
   ],
   "source": [
    "df.head()"
   ]
  },
  {
   "cell_type": "code",
   "execution_count": 4,
   "metadata": {},
   "outputs": [
    {
     "name": "stdout",
     "output_type": "stream",
     "text": [
      "<class 'pandas.core.frame.DataFrame'>\n",
      "RangeIndex: 689945 entries, 0 to 689944\n",
      "Data columns (total 17 columns):\n",
      "iforderpv_24h            689945 non-null int64\n",
      "hotelcr                  689945 non-null float64\n",
      "ordercanncelednum        689945 non-null int64\n",
      "ordernum_oneyear         689945 non-null int64\n",
      "cr_pre                   689945 non-null float64\n",
      "lowestprice              689945 non-null int64\n",
      "commentnums_pre          689945 non-null float64\n",
      "customer_value_profit    689945 non-null float64\n",
      "uv_pre2                  689945 non-null float64\n",
      "lasthtlordergap          689945 non-null int64\n",
      "businessrate_pre2        689945 non-null float64\n",
      "cityuvs                  689945 non-null float64\n",
      "cr                       689945 non-null float64\n",
      "visitnum_oneyear         689945 non-null int64\n",
      "h                        689945 non-null int64\n",
      "chr                      689945 non-null int64\n",
      "label                    689945 non-null int64\n",
      "dtypes: float64(8), int64(9)\n",
      "memory usage: 89.5 MB\n"
     ]
    }
   ],
   "source": [
    "df.info()"
   ]
  },
  {
   "cell_type": "code",
   "execution_count": 5,
   "metadata": {},
   "outputs": [
    {
     "data": {
      "text/html": [
       "<div>\n",
       "<style>\n",
       "    .dataframe thead tr:only-child th {\n",
       "        text-align: right;\n",
       "    }\n",
       "\n",
       "    .dataframe thead th {\n",
       "        text-align: left;\n",
       "    }\n",
       "\n",
       "    .dataframe tbody tr th {\n",
       "        vertical-align: top;\n",
       "    }\n",
       "</style>\n",
       "<table border=\"1\" class=\"dataframe\">\n",
       "  <thead>\n",
       "    <tr style=\"text-align: right;\">\n",
       "      <th></th>\n",
       "      <th>iforderpv_24h</th>\n",
       "      <th>hotelcr</th>\n",
       "      <th>ordercanncelednum</th>\n",
       "      <th>ordernum_oneyear</th>\n",
       "      <th>cr_pre</th>\n",
       "      <th>lowestprice</th>\n",
       "      <th>commentnums_pre</th>\n",
       "      <th>customer_value_profit</th>\n",
       "      <th>uv_pre2</th>\n",
       "      <th>lasthtlordergap</th>\n",
       "      <th>businessrate_pre2</th>\n",
       "      <th>cityuvs</th>\n",
       "      <th>cr</th>\n",
       "      <th>visitnum_oneyear</th>\n",
       "      <th>h</th>\n",
       "      <th>chr</th>\n",
       "      <th>label</th>\n",
       "    </tr>\n",
       "  </thead>\n",
       "  <tbody>\n",
       "    <tr>\n",
       "      <th>count</th>\n",
       "      <td>689945.000000</td>\n",
       "      <td>689945.000000</td>\n",
       "      <td>689945.000000</td>\n",
       "      <td>689945.000000</td>\n",
       "      <td>689945.000000</td>\n",
       "      <td>689945.000000</td>\n",
       "      <td>689945.000000</td>\n",
       "      <td>689945.000000</td>\n",
       "      <td>689945.000000</td>\n",
       "      <td>689945.000000</td>\n",
       "      <td>689945.000000</td>\n",
       "      <td>689945.000000</td>\n",
       "      <td>689945.000000</td>\n",
       "      <td>689945.000000</td>\n",
       "      <td>689945.000000</td>\n",
       "      <td>689945.000000</td>\n",
       "      <td>689945.000000</td>\n",
       "    </tr>\n",
       "    <tr>\n",
       "      <th>mean</th>\n",
       "      <td>0.193737</td>\n",
       "      <td>1.060588</td>\n",
       "      <td>91.685444</td>\n",
       "      <td>7.240450</td>\n",
       "      <td>1.062782</td>\n",
       "      <td>318.459438</td>\n",
       "      <td>1353.898507</td>\n",
       "      <td>1.933828</td>\n",
       "      <td>98.817844</td>\n",
       "      <td>251039.453043</td>\n",
       "      <td>0.372241</td>\n",
       "      <td>10.529887</td>\n",
       "      <td>1.145430</td>\n",
       "      <td>2203.290406</td>\n",
       "      <td>14.462315</td>\n",
       "      <td>3.718222</td>\n",
       "      <td>0.274452</td>\n",
       "    </tr>\n",
       "    <tr>\n",
       "      <th>std</th>\n",
       "      <td>0.395226</td>\n",
       "      <td>0.042652</td>\n",
       "      <td>250.557821</td>\n",
       "      <td>12.545981</td>\n",
       "      <td>0.043631</td>\n",
       "      <td>574.977150</td>\n",
       "      <td>1703.451774</td>\n",
       "      <td>5.483893</td>\n",
       "      <td>138.795742</td>\n",
       "      <td>225754.634224</td>\n",
       "      <td>0.205883</td>\n",
       "      <td>15.649060</td>\n",
       "      <td>0.260848</td>\n",
       "      <td>2478.270395</td>\n",
       "      <td>6.301575</td>\n",
       "      <td>6.734140</td>\n",
       "      <td>0.446238</td>\n",
       "    </tr>\n",
       "    <tr>\n",
       "      <th>min</th>\n",
       "      <td>0.000000</td>\n",
       "      <td>1.000000</td>\n",
       "      <td>0.000000</td>\n",
       "      <td>0.000000</td>\n",
       "      <td>1.000000</td>\n",
       "      <td>-3.000000</td>\n",
       "      <td>0.000000</td>\n",
       "      <td>-24.075000</td>\n",
       "      <td>0.007000</td>\n",
       "      <td>0.000000</td>\n",
       "      <td>0.000000</td>\n",
       "      <td>0.000000</td>\n",
       "      <td>1.000000</td>\n",
       "      <td>1.000000</td>\n",
       "      <td>0.000000</td>\n",
       "      <td>0.000000</td>\n",
       "      <td>0.000000</td>\n",
       "    </tr>\n",
       "    <tr>\n",
       "      <th>25%</th>\n",
       "      <td>0.000000</td>\n",
       "      <td>1.030000</td>\n",
       "      <td>0.000000</td>\n",
       "      <td>0.000000</td>\n",
       "      <td>1.030000</td>\n",
       "      <td>117.000000</td>\n",
       "      <td>184.000000</td>\n",
       "      <td>0.000000</td>\n",
       "      <td>18.595000</td>\n",
       "      <td>29358.000000</td>\n",
       "      <td>0.210000</td>\n",
       "      <td>0.773000</td>\n",
       "      <td>1.000000</td>\n",
       "      <td>580.000000</td>\n",
       "      <td>11.000000</td>\n",
       "      <td>0.000000</td>\n",
       "      <td>0.000000</td>\n",
       "    </tr>\n",
       "    <tr>\n",
       "      <th>50%</th>\n",
       "      <td>0.000000</td>\n",
       "      <td>1.050000</td>\n",
       "      <td>0.000000</td>\n",
       "      <td>2.000000</td>\n",
       "      <td>1.060000</td>\n",
       "      <td>200.000000</td>\n",
       "      <td>845.000000</td>\n",
       "      <td>0.210000</td>\n",
       "      <td>51.287000</td>\n",
       "      <td>154832.000000</td>\n",
       "      <td>0.400000</td>\n",
       "      <td>3.447000</td>\n",
       "      <td>1.040000</td>\n",
       "      <td>1315.000000</td>\n",
       "      <td>15.000000</td>\n",
       "      <td>0.000000</td>\n",
       "      <td>0.000000</td>\n",
       "    </tr>\n",
       "    <tr>\n",
       "      <th>75%</th>\n",
       "      <td>0.000000</td>\n",
       "      <td>1.090000</td>\n",
       "      <td>5.000000</td>\n",
       "      <td>8.000000</td>\n",
       "      <td>1.090000</td>\n",
       "      <td>379.000000</td>\n",
       "      <td>1580.000000</td>\n",
       "      <td>1.610000</td>\n",
       "      <td>121.269000</td>\n",
       "      <td>527026.000000</td>\n",
       "      <td>0.530000</td>\n",
       "      <td>12.880000</td>\n",
       "      <td>1.220000</td>\n",
       "      <td>2690.000000</td>\n",
       "      <td>20.000000</td>\n",
       "      <td>4.000000</td>\n",
       "      <td>1.000000</td>\n",
       "    </tr>\n",
       "    <tr>\n",
       "      <th>max</th>\n",
       "      <td>1.000000</td>\n",
       "      <td>1.200000</td>\n",
       "      <td>1489.000000</td>\n",
       "      <td>70.000000</td>\n",
       "      <td>2.950000</td>\n",
       "      <td>100000.000000</td>\n",
       "      <td>9443.000000</td>\n",
       "      <td>598.064000</td>\n",
       "      <td>850.000000</td>\n",
       "      <td>527026.000000</td>\n",
       "      <td>0.990000</td>\n",
       "      <td>67.140000</td>\n",
       "      <td>11.000000</td>\n",
       "      <td>9574.000000</td>\n",
       "      <td>23.000000</td>\n",
       "      <td>30.000000</td>\n",
       "      <td>1.000000</td>\n",
       "    </tr>\n",
       "  </tbody>\n",
       "</table>\n",
       "</div>"
      ],
      "text/plain": [
       "       iforderpv_24h        hotelcr  ordercanncelednum  ordernum_oneyear  \\\n",
       "count  689945.000000  689945.000000      689945.000000     689945.000000   \n",
       "mean        0.193737       1.060588          91.685444          7.240450   \n",
       "std         0.395226       0.042652         250.557821         12.545981   \n",
       "min         0.000000       1.000000           0.000000          0.000000   \n",
       "25%         0.000000       1.030000           0.000000          0.000000   \n",
       "50%         0.000000       1.050000           0.000000          2.000000   \n",
       "75%         0.000000       1.090000           5.000000          8.000000   \n",
       "max         1.000000       1.200000        1489.000000         70.000000   \n",
       "\n",
       "              cr_pre    lowestprice  commentnums_pre  customer_value_profit  \\\n",
       "count  689945.000000  689945.000000    689945.000000          689945.000000   \n",
       "mean        1.062782     318.459438      1353.898507               1.933828   \n",
       "std         0.043631     574.977150      1703.451774               5.483893   \n",
       "min         1.000000      -3.000000         0.000000             -24.075000   \n",
       "25%         1.030000     117.000000       184.000000               0.000000   \n",
       "50%         1.060000     200.000000       845.000000               0.210000   \n",
       "75%         1.090000     379.000000      1580.000000               1.610000   \n",
       "max         2.950000  100000.000000      9443.000000             598.064000   \n",
       "\n",
       "             uv_pre2  lasthtlordergap  businessrate_pre2        cityuvs  \\\n",
       "count  689945.000000    689945.000000      689945.000000  689945.000000   \n",
       "mean       98.817844    251039.453043           0.372241      10.529887   \n",
       "std       138.795742    225754.634224           0.205883      15.649060   \n",
       "min         0.007000         0.000000           0.000000       0.000000   \n",
       "25%        18.595000     29358.000000           0.210000       0.773000   \n",
       "50%        51.287000    154832.000000           0.400000       3.447000   \n",
       "75%       121.269000    527026.000000           0.530000      12.880000   \n",
       "max       850.000000    527026.000000           0.990000      67.140000   \n",
       "\n",
       "                  cr  visitnum_oneyear              h            chr  \\\n",
       "count  689945.000000     689945.000000  689945.000000  689945.000000   \n",
       "mean        1.145430       2203.290406      14.462315       3.718222   \n",
       "std         0.260848       2478.270395       6.301575       6.734140   \n",
       "min         1.000000          1.000000       0.000000       0.000000   \n",
       "25%         1.000000        580.000000      11.000000       0.000000   \n",
       "50%         1.040000       1315.000000      15.000000       0.000000   \n",
       "75%         1.220000       2690.000000      20.000000       4.000000   \n",
       "max        11.000000       9574.000000      23.000000      30.000000   \n",
       "\n",
       "               label  \n",
       "count  689945.000000  \n",
       "mean        0.274452  \n",
       "std         0.446238  \n",
       "min         0.000000  \n",
       "25%         0.000000  \n",
       "50%         0.000000  \n",
       "75%         1.000000  \n",
       "max         1.000000  "
      ]
     },
     "execution_count": 5,
     "metadata": {},
     "output_type": "execute_result"
    }
   ],
   "source": [
    "df.describe()"
   ]
  },
  {
   "cell_type": "markdown",
   "metadata": {},
   "source": [
    "#定义自变量与目标变量"
   ]
  },
  {
   "cell_type": "code",
   "execution_count": 5,
   "metadata": {
    "scrolled": false
   },
   "outputs": [
    {
     "data": {
      "text/plain": [
       "Index(['iforderpv_24h', 'hotelcr', 'ordercanncelednum', 'ordernum_oneyear',\n",
       "       'cr_pre', 'lowestprice', 'commentnums_pre', 'customer_value_profit',\n",
       "       'uv_pre2', 'lasthtlordergap', 'businessrate_pre2', 'cityuvs', 'cr',\n",
       "       'visitnum_oneyear', 'h', 'chr', 'label'],\n",
       "      dtype='object')"
      ]
     },
     "execution_count": 5,
     "metadata": {},
     "output_type": "execute_result"
    }
   ],
   "source": [
    "features = df.columns\n",
    "features"
   ]
  },
  {
   "cell_type": "code",
   "execution_count": 6,
   "metadata": {
    "collapsed": true
   },
   "outputs": [],
   "source": [
    "y = df[\"label\"]"
   ]
  },
  {
   "cell_type": "code",
   "execution_count": 7,
   "metadata": {},
   "outputs": [
    {
     "data": {
      "text/plain": [
       "0    0\n",
       "1    1\n",
       "2    0\n",
       "3    0\n",
       "4    1\n",
       "Name: label, dtype: int64"
      ]
     },
     "execution_count": 7,
     "metadata": {},
     "output_type": "execute_result"
    }
   ],
   "source": [
    "y.head()"
   ]
  },
  {
   "cell_type": "code",
   "execution_count": 9,
   "metadata": {
    "collapsed": true
   },
   "outputs": [],
   "source": [
    "X = df[['iforderpv_24h', 'hotelcr', 'ordercanncelednum', 'ordernum_oneyear',\n",
    "       'cr_pre', 'lowestprice', 'commentnums_pre', 'customer_value_profit',\n",
    "       'uv_pre2', 'lasthtlordergap', 'businessrate_pre2', 'cityuvs', 'cr',\n",
    "       'visitnum_oneyear', 'h', 'chr',]]"
   ]
  },
  {
   "cell_type": "code",
   "execution_count": 10,
   "metadata": {},
   "outputs": [
    {
     "data": {
      "text/html": [
       "<div>\n",
       "<style>\n",
       "    .dataframe thead tr:only-child th {\n",
       "        text-align: right;\n",
       "    }\n",
       "\n",
       "    .dataframe thead th {\n",
       "        text-align: left;\n",
       "    }\n",
       "\n",
       "    .dataframe tbody tr th {\n",
       "        vertical-align: top;\n",
       "    }\n",
       "</style>\n",
       "<table border=\"1\" class=\"dataframe\">\n",
       "  <thead>\n",
       "    <tr style=\"text-align: right;\">\n",
       "      <th></th>\n",
       "      <th>iforderpv_24h</th>\n",
       "      <th>hotelcr</th>\n",
       "      <th>ordercanncelednum</th>\n",
       "      <th>ordernum_oneyear</th>\n",
       "      <th>cr_pre</th>\n",
       "      <th>lowestprice</th>\n",
       "      <th>commentnums_pre</th>\n",
       "      <th>customer_value_profit</th>\n",
       "      <th>uv_pre2</th>\n",
       "      <th>lasthtlordergap</th>\n",
       "      <th>businessrate_pre2</th>\n",
       "      <th>cityuvs</th>\n",
       "      <th>cr</th>\n",
       "      <th>visitnum_oneyear</th>\n",
       "      <th>h</th>\n",
       "      <th>chr</th>\n",
       "    </tr>\n",
       "  </thead>\n",
       "  <tbody>\n",
       "    <tr>\n",
       "      <th>0</th>\n",
       "      <td>0</td>\n",
       "      <td>1.04</td>\n",
       "      <td>0</td>\n",
       "      <td>0</td>\n",
       "      <td>1.03</td>\n",
       "      <td>49</td>\n",
       "      <td>724.000000</td>\n",
       "      <td>0.0</td>\n",
       "      <td>74.956</td>\n",
       "      <td>527026</td>\n",
       "      <td>0.29</td>\n",
       "      <td>12.880</td>\n",
       "      <td>1.5</td>\n",
       "      <td>1315</td>\n",
       "      <td>12</td>\n",
       "      <td>0</td>\n",
       "    </tr>\n",
       "    <tr>\n",
       "      <th>1</th>\n",
       "      <td>0</td>\n",
       "      <td>1.06</td>\n",
       "      <td>0</td>\n",
       "      <td>0</td>\n",
       "      <td>1.07</td>\n",
       "      <td>619</td>\n",
       "      <td>5610.000000</td>\n",
       "      <td>0.0</td>\n",
       "      <td>224.920</td>\n",
       "      <td>527026</td>\n",
       "      <td>0.53</td>\n",
       "      <td>17.933</td>\n",
       "      <td>1.5</td>\n",
       "      <td>1315</td>\n",
       "      <td>14</td>\n",
       "      <td>0</td>\n",
       "    </tr>\n",
       "    <tr>\n",
       "      <th>2</th>\n",
       "      <td>0</td>\n",
       "      <td>1.05</td>\n",
       "      <td>0</td>\n",
       "      <td>0</td>\n",
       "      <td>1.12</td>\n",
       "      <td>312</td>\n",
       "      <td>4721.000000</td>\n",
       "      <td>0.0</td>\n",
       "      <td>112.063</td>\n",
       "      <td>527026</td>\n",
       "      <td>0.60</td>\n",
       "      <td>3.993</td>\n",
       "      <td>1.5</td>\n",
       "      <td>1315</td>\n",
       "      <td>19</td>\n",
       "      <td>1</td>\n",
       "    </tr>\n",
       "    <tr>\n",
       "      <th>3</th>\n",
       "      <td>0</td>\n",
       "      <td>1.01</td>\n",
       "      <td>0</td>\n",
       "      <td>0</td>\n",
       "      <td>1.01</td>\n",
       "      <td>198</td>\n",
       "      <td>41.000000</td>\n",
       "      <td>0.0</td>\n",
       "      <td>58.844</td>\n",
       "      <td>527026</td>\n",
       "      <td>0.18</td>\n",
       "      <td>3.220</td>\n",
       "      <td>1.5</td>\n",
       "      <td>1315</td>\n",
       "      <td>16</td>\n",
       "      <td>0</td>\n",
       "    </tr>\n",
       "    <tr>\n",
       "      <th>4</th>\n",
       "      <td>0</td>\n",
       "      <td>1.00</td>\n",
       "      <td>0</td>\n",
       "      <td>0</td>\n",
       "      <td>1.03</td>\n",
       "      <td>200</td>\n",
       "      <td>1415.159561</td>\n",
       "      <td>0.0</td>\n",
       "      <td>0.157</td>\n",
       "      <td>527026</td>\n",
       "      <td>0.40</td>\n",
       "      <td>0.013</td>\n",
       "      <td>1.5</td>\n",
       "      <td>1315</td>\n",
       "      <td>21</td>\n",
       "      <td>1</td>\n",
       "    </tr>\n",
       "  </tbody>\n",
       "</table>\n",
       "</div>"
      ],
      "text/plain": [
       "   iforderpv_24h  hotelcr  ordercanncelednum  ordernum_oneyear  cr_pre  \\\n",
       "0              0     1.04                  0                 0    1.03   \n",
       "1              0     1.06                  0                 0    1.07   \n",
       "2              0     1.05                  0                 0    1.12   \n",
       "3              0     1.01                  0                 0    1.01   \n",
       "4              0     1.00                  0                 0    1.03   \n",
       "\n",
       "   lowestprice  commentnums_pre  customer_value_profit  uv_pre2  \\\n",
       "0           49       724.000000                    0.0   74.956   \n",
       "1          619      5610.000000                    0.0  224.920   \n",
       "2          312      4721.000000                    0.0  112.063   \n",
       "3          198        41.000000                    0.0   58.844   \n",
       "4          200      1415.159561                    0.0    0.157   \n",
       "\n",
       "   lasthtlordergap  businessrate_pre2  cityuvs   cr  visitnum_oneyear   h  chr  \n",
       "0           527026               0.29   12.880  1.5              1315  12    0  \n",
       "1           527026               0.53   17.933  1.5              1315  14    0  \n",
       "2           527026               0.60    3.993  1.5              1315  19    1  \n",
       "3           527026               0.18    3.220  1.5              1315  16    0  \n",
       "4           527026               0.40    0.013  1.5              1315  21    1  "
      ]
     },
     "execution_count": 10,
     "metadata": {},
     "output_type": "execute_result"
    }
   ],
   "source": [
    "X.head()"
   ]
  },
  {
   "cell_type": "code",
   "execution_count": 11,
   "metadata": {},
   "outputs": [
    {
     "data": {
      "text/plain": [
       "(689945, 16)"
      ]
     },
     "execution_count": 11,
     "metadata": {},
     "output_type": "execute_result"
    }
   ],
   "source": [
    "X.shape"
   ]
  },
  {
   "cell_type": "markdown",
   "metadata": {},
   "source": [
    "#构建训练集与测试集"
   ]
  },
  {
   "cell_type": "code",
   "execution_count": 12,
   "metadata": {},
   "outputs": [
    {
     "name": "stderr",
     "output_type": "stream",
     "text": [
      "C:\\ProgramData\\Anaconda3\\lib\\site-packages\\sklearn\\cross_validation.py:41: DeprecationWarning: This module was deprecated in version 0.18 in favor of the model_selection module into which all the refactored classes and functions are moved. Also note that the interface of the new CV iterators are different from that of this module. This module will be removed in 0.20.\n",
      "  \"This module will be removed in 0.20.\", DeprecationWarning)\n"
     ]
    }
   ],
   "source": [
    "from sklearn.cross_validation import train_test_split \n",
    "X_train,X_test,y_train,y_test = train_test_split(X, y,test_size = 0.3,random_state=1) "
   ]
  },
  {
   "cell_type": "code",
   "execution_count": 13,
   "metadata": {},
   "outputs": [
    {
     "name": "stdout",
     "output_type": "stream",
     "text": [
      "(482961, 16)\n",
      "(482961,)\n",
      "(206984, 16)\n",
      "(206984,)\n"
     ]
    }
   ],
   "source": [
    "print (X_train.shape)\n",
    "print (y_train.shape)\n",
    "print (X_test.shape)\n",
    "print (y_test.shape)"
   ]
  },
  {
   "cell_type": "markdown",
   "metadata": {},
   "source": [
    "#数据标准化"
   ]
  },
  {
   "cell_type": "code",
   "execution_count": 14,
   "metadata": {
    "collapsed": true
   },
   "outputs": [],
   "source": [
    "from sklearn.preprocessing import StandardScaler  \n",
    "\n",
    "X_scaler = StandardScaler()\n",
    "X_train = X_scaler.fit_transform(X_train)\n",
    "X_test = X_scaler.transform(X_test)"
   ]
  },
  {
   "cell_type": "markdown",
   "metadata": {},
   "source": [
    "## LR模型"
   ]
  },
  {
   "cell_type": "markdown",
   "metadata": {},
   "source": [
    "#训练模型"
   ]
  },
  {
   "cell_type": "code",
   "execution_count": 15,
   "metadata": {},
   "outputs": [
    {
     "name": "stderr",
     "output_type": "stream",
     "text": [
      "C:\\ProgramData\\Anaconda3\\lib\\site-packages\\ggplot\\utils.py:81: FutureWarning: pandas.tslib is deprecated and will be removed in a future version.\n",
      "You can access Timestamp as pandas.Timestamp\n",
      "  pd.tslib.Timestamp,\n",
      "C:\\ProgramData\\Anaconda3\\lib\\site-packages\\ggplot\\stats\\smoothers.py:4: FutureWarning: The pandas.lib module is deprecated and will be removed in a future version. These are private functions and can be accessed from pandas._libs.lib instead\n",
      "  from pandas.lib import Timestamp\n",
      "C:\\ProgramData\\Anaconda3\\lib\\site-packages\\statsmodels\\compat\\pandas.py:56: FutureWarning: The pandas.core.datetools module is deprecated and will be removed in a future version. Please use the pandas.tseries module instead.\n",
      "  from pandas.core import datetools\n"
     ]
    }
   ],
   "source": [
    "import statsmodels.formula.api as smf\n",
    "from sklearn import metrics\n",
    "from ggplot import *"
   ]
  },
  {
   "cell_type": "code",
   "execution_count": 16,
   "metadata": {},
   "outputs": [
    {
     "name": "stdout",
     "output_type": "stream",
     "text": [
      "Optimization terminated successfully.\n",
      "         Current function value: 0.653133\n",
      "         Iterations 5\n"
     ]
    },
    {
     "data": {
      "text/html": [
       "<table class=\"simpletable\">\n",
       "<caption>Logit Regression Results</caption>\n",
       "<tr>\n",
       "  <th>Dep. Variable:</th>       <td>label</td>      <th>  No. Observations:  </th>   <td>482961</td>   \n",
       "</tr>\n",
       "<tr>\n",
       "  <th>Model:</th>               <td>Logit</td>      <th>  Df Residuals:      </th>   <td>482945</td>   \n",
       "</tr>\n",
       "<tr>\n",
       "  <th>Method:</th>               <td>MLE</td>       <th>  Df Model:          </th>   <td>    15</td>   \n",
       "</tr>\n",
       "<tr>\n",
       "  <th>Date:</th>          <td>Thu, 01 Feb 2018</td> <th>  Pseudo R-squ.:     </th>   <td>-0.1117</td>  \n",
       "</tr>\n",
       "<tr>\n",
       "  <th>Time:</th>              <td>23:15:22</td>     <th>  Log-Likelihood:    </th> <td>-3.1544e+05</td>\n",
       "</tr>\n",
       "<tr>\n",
       "  <th>converged:</th>           <td>True</td>       <th>  LL-Null:           </th> <td>-2.8374e+05</td>\n",
       "</tr>\n",
       "<tr>\n",
       "  <th> </th>                      <td> </td>        <th>  LLR p-value:       </th>   <td> 1.000</td>   \n",
       "</tr>\n",
       "</table>\n",
       "<table class=\"simpletable\">\n",
       "<tr>\n",
       "   <td></td>      <th>coef</th>     <th>std err</th>      <th>z</th>      <th>P>|z|</th>  <th>[0.025</th>    <th>0.975]</th>  \n",
       "</tr>\n",
       "<tr>\n",
       "  <th>x1</th>  <td>    0.2133</td> <td>    0.003</td> <td>   69.811</td> <td> 0.000</td> <td>    0.207</td> <td>    0.219</td>\n",
       "</tr>\n",
       "<tr>\n",
       "  <th>x2</th>  <td>    0.0998</td> <td>    0.004</td> <td>   28.049</td> <td> 0.000</td> <td>    0.093</td> <td>    0.107</td>\n",
       "</tr>\n",
       "<tr>\n",
       "  <th>x3</th>  <td>   -0.0194</td> <td>    0.004</td> <td>   -4.338</td> <td> 0.000</td> <td>   -0.028</td> <td>   -0.011</td>\n",
       "</tr>\n",
       "<tr>\n",
       "  <th>x4</th>  <td>    0.2900</td> <td>    0.006</td> <td>   48.885</td> <td> 0.000</td> <td>    0.278</td> <td>    0.302</td>\n",
       "</tr>\n",
       "<tr>\n",
       "  <th>x5</th>  <td>    0.0659</td> <td>    0.004</td> <td>   17.627</td> <td> 0.000</td> <td>    0.059</td> <td>    0.073</td>\n",
       "</tr>\n",
       "<tr>\n",
       "  <th>x6</th>  <td>   -0.0756</td> <td>    0.005</td> <td>  -15.178</td> <td> 0.000</td> <td>   -0.085</td> <td>   -0.066</td>\n",
       "</tr>\n",
       "<tr>\n",
       "  <th>x7</th>  <td>    0.0165</td> <td>    0.004</td> <td>    4.302</td> <td> 0.000</td> <td>    0.009</td> <td>    0.024</td>\n",
       "</tr>\n",
       "<tr>\n",
       "  <th>x8</th>  <td>    0.0419</td> <td>    0.004</td> <td>    9.789</td> <td> 0.000</td> <td>    0.033</td> <td>    0.050</td>\n",
       "</tr>\n",
       "<tr>\n",
       "  <th>x9</th>  <td>   -0.0369</td> <td>    0.004</td> <td>   -8.828</td> <td> 0.000</td> <td>   -0.045</td> <td>   -0.029</td>\n",
       "</tr>\n",
       "<tr>\n",
       "  <th>x10</th> <td>   -0.1576</td> <td>    0.004</td> <td>  -43.341</td> <td> 0.000</td> <td>   -0.165</td> <td>   -0.150</td>\n",
       "</tr>\n",
       "<tr>\n",
       "  <th>x11</th> <td>    0.0327</td> <td>    0.004</td> <td>    8.513</td> <td> 0.000</td> <td>    0.025</td> <td>    0.040</td>\n",
       "</tr>\n",
       "<tr>\n",
       "  <th>x12</th> <td>    0.0993</td> <td>    0.003</td> <td>   30.378</td> <td> 0.000</td> <td>    0.093</td> <td>    0.106</td>\n",
       "</tr>\n",
       "<tr>\n",
       "  <th>x13</th> <td>    0.1010</td> <td>    0.004</td> <td>   28.262</td> <td> 0.000</td> <td>    0.094</td> <td>    0.108</td>\n",
       "</tr>\n",
       "<tr>\n",
       "  <th>x14</th> <td>   -0.2205</td> <td>    0.004</td> <td>  -62.454</td> <td> 0.000</td> <td>   -0.227</td> <td>   -0.214</td>\n",
       "</tr>\n",
       "<tr>\n",
       "  <th>x15</th> <td>   -0.1443</td> <td>    0.003</td> <td>  -47.973</td> <td> 0.000</td> <td>   -0.150</td> <td>   -0.138</td>\n",
       "</tr>\n",
       "<tr>\n",
       "  <th>x16</th> <td>   -0.1732</td> <td>    0.003</td> <td>  -51.846</td> <td> 0.000</td> <td>   -0.180</td> <td>   -0.167</td>\n",
       "</tr>\n",
       "</table>"
      ],
      "text/plain": [
       "<class 'statsmodels.iolib.summary.Summary'>\n",
       "\"\"\"\n",
       "                           Logit Regression Results                           \n",
       "==============================================================================\n",
       "Dep. Variable:                  label   No. Observations:               482961\n",
       "Model:                          Logit   Df Residuals:                   482945\n",
       "Method:                           MLE   Df Model:                           15\n",
       "Date:                Thu, 01 Feb 2018   Pseudo R-squ.:                 -0.1117\n",
       "Time:                        23:15:22   Log-Likelihood:            -3.1544e+05\n",
       "converged:                       True   LL-Null:                   -2.8374e+05\n",
       "                                        LLR p-value:                     1.000\n",
       "==============================================================================\n",
       "                 coef    std err          z      P>|z|      [0.025      0.975]\n",
       "------------------------------------------------------------------------------\n",
       "x1             0.2133      0.003     69.811      0.000       0.207       0.219\n",
       "x2             0.0998      0.004     28.049      0.000       0.093       0.107\n",
       "x3            -0.0194      0.004     -4.338      0.000      -0.028      -0.011\n",
       "x4             0.2900      0.006     48.885      0.000       0.278       0.302\n",
       "x5             0.0659      0.004     17.627      0.000       0.059       0.073\n",
       "x6            -0.0756      0.005    -15.178      0.000      -0.085      -0.066\n",
       "x7             0.0165      0.004      4.302      0.000       0.009       0.024\n",
       "x8             0.0419      0.004      9.789      0.000       0.033       0.050\n",
       "x9            -0.0369      0.004     -8.828      0.000      -0.045      -0.029\n",
       "x10           -0.1576      0.004    -43.341      0.000      -0.165      -0.150\n",
       "x11            0.0327      0.004      8.513      0.000       0.025       0.040\n",
       "x12            0.0993      0.003     30.378      0.000       0.093       0.106\n",
       "x13            0.1010      0.004     28.262      0.000       0.094       0.108\n",
       "x14           -0.2205      0.004    -62.454      0.000      -0.227      -0.214\n",
       "x15           -0.1443      0.003    -47.973      0.000      -0.150      -0.138\n",
       "x16           -0.1732      0.003    -51.846      0.000      -0.180      -0.167\n",
       "==============================================================================\n",
       "\"\"\""
      ]
     },
     "execution_count": 16,
     "metadata": {},
     "output_type": "execute_result"
    }
   ],
   "source": [
    "# 根据训练集构建Logistic分类器\n",
    "logistic = smf.Logit(y_train,X_train).fit()\n",
    "logistic.summary()"
   ]
  },
  {
   "cell_type": "code",
   "execution_count": 17,
   "metadata": {
    "collapsed": true
   },
   "outputs": [
    {
     "ename": "ValueError",
     "evalue": "DataFrame constructor not properly called!",
     "output_type": "error",
     "traceback": [
      "\u001b[1;31m---------------------------------------------------------------------------\u001b[0m",
      "\u001b[1;31mValueError\u001b[0m                                Traceback (most recent call last)",
      "\u001b[1;32m<ipython-input-17-4f4e2ecca103>\u001b[0m in \u001b[0;36m<module>\u001b[1;34m()\u001b[0m\n\u001b[1;32m----> 1\u001b[1;33m \u001b[0mcontent\u001b[0m \u001b[1;33m=\u001b[0m \u001b[0mpd\u001b[0m\u001b[1;33m.\u001b[0m\u001b[0mDataFrame\u001b[0m\u001b[1;33m(\u001b[0m\u001b[0mlogistic\u001b[0m\u001b[1;33m.\u001b[0m\u001b[0msummary\u001b[0m\u001b[1;33m(\u001b[0m\u001b[1;33m)\u001b[0m\u001b[1;33m)\u001b[0m\u001b[1;33m\u001b[0m\u001b[0m\n\u001b[0m\u001b[0;32m      2\u001b[0m \u001b[0mcontent\u001b[0m\u001b[1;33m.\u001b[0m\u001b[0mto_csv\u001b[0m\u001b[1;33m(\u001b[0m\u001b[1;34m'corrmatrix_final.csv'\u001b[0m\u001b[1;33m)\u001b[0m\u001b[1;33m\u001b[0m\u001b[0m\n",
      "\u001b[1;32mC:\\ProgramData\\Anaconda3\\lib\\site-packages\\pandas\\core\\frame.py\u001b[0m in \u001b[0;36m__init__\u001b[1;34m(self, data, index, columns, dtype, copy)\u001b[0m\n\u001b[0;32m    352\u001b[0m                                          copy=False)\n\u001b[0;32m    353\u001b[0m             \u001b[1;32melse\u001b[0m\u001b[1;33m:\u001b[0m\u001b[1;33m\u001b[0m\u001b[0m\n\u001b[1;32m--> 354\u001b[1;33m                 \u001b[1;32mraise\u001b[0m \u001b[0mValueError\u001b[0m\u001b[1;33m(\u001b[0m\u001b[1;34m'DataFrame constructor not properly called!'\u001b[0m\u001b[1;33m)\u001b[0m\u001b[1;33m\u001b[0m\u001b[0m\n\u001b[0m\u001b[0;32m    355\u001b[0m \u001b[1;33m\u001b[0m\u001b[0m\n\u001b[0;32m    356\u001b[0m         \u001b[0mNDFrame\u001b[0m\u001b[1;33m.\u001b[0m\u001b[0m__init__\u001b[0m\u001b[1;33m(\u001b[0m\u001b[0mself\u001b[0m\u001b[1;33m,\u001b[0m \u001b[0mmgr\u001b[0m\u001b[1;33m,\u001b[0m \u001b[0mfastpath\u001b[0m\u001b[1;33m=\u001b[0m\u001b[1;32mTrue\u001b[0m\u001b[1;33m)\u001b[0m\u001b[1;33m\u001b[0m\u001b[0m\n",
      "\u001b[1;31mValueError\u001b[0m: DataFrame constructor not properly called!"
     ]
    }
   ],
   "source": [
    "# content = pd.DataFrame(logistic.summary())\n",
    "# content.to_csv('corrmatrix_final.csv')"
   ]
  },
  {
   "cell_type": "code",
   "execution_count": 17,
   "metadata": {
    "scrolled": true
   },
   "outputs": [
    {
     "name": "stdout",
     "output_type": "stream",
     "text": [
      "630907.201238\n"
     ]
    }
   ],
   "source": [
    "print(logistic.aic)"
   ]
  },
  {
   "cell_type": "code",
   "execution_count": 18,
   "metadata": {},
   "outputs": [
    {
     "data": {
      "text/plain": [
       "x1     1.237740\n",
       "x2     1.105003\n",
       "x3     0.980752\n",
       "x4     1.336491\n",
       "x5     1.068116\n",
       "x6     0.927206\n",
       "x7     1.016662\n",
       "x8     1.042744\n",
       "x9     0.963811\n",
       "x10    0.854204\n",
       "x11    1.033243\n",
       "x12    1.104444\n",
       "x13    1.106239\n",
       "x14    0.802140\n",
       "x15    0.865651\n",
       "x16    0.840954\n",
       "dtype: float64"
      ]
     },
     "execution_count": 18,
     "metadata": {},
     "output_type": "execute_result"
    }
   ],
   "source": [
    "# 优势比\n",
    "np.exp(logistic.params)"
   ]
  },
  {
   "cell_type": "code",
   "execution_count": 19,
   "metadata": {},
   "outputs": [
    {
     "name": "stdout",
     "output_type": "stream",
     "text": [
      "[[90134 59974]\n",
      " [17995 38881]]\n"
     ]
    },
    {
     "data": {
      "text/plain": [
       "0.62330904804236076"
      ]
     },
     "execution_count": 19,
     "metadata": {},
     "output_type": "execute_result"
    }
   ],
   "source": [
    "# 根据分类器，在测试集上预测概率\n",
    "prob = logistic.predict(exog = X_test)\n",
    "# 根据概率值，将观测进行分类，以0.5作为阈值\n",
    "y_pred = np.where(prob >= 0.5, 1, 0)\n",
    "\n",
    "# 根据预测值和实际值构建混淆矩阵\n",
    "cm = metrics.confusion_matrix(y_test, y_pred, labels=[0,1])\n",
    "cm\n",
    "print(cm)\n",
    "# 计算模型的准确率\n",
    "accuracy = cm.diagonal().sum()/cm.sum()\n",
    "accuracy"
   ]
  },
  {
   "cell_type": "markdown",
   "metadata": {},
   "source": [
    "#模型调整"
   ]
  },
  {
   "cell_type": "code",
   "execution_count": 21,
   "metadata": {},
   "outputs": [
    {
     "name": "stdout",
     "output_type": "stream",
     "text": [
      "Optimization terminated successfully.\n",
      "         Current function value: 0.540846\n",
      "         Iterations 6\n",
      "                           Logit Regression Results                           \n",
      "==============================================================================\n",
      "Dep. Variable:                  label   No. Observations:               482961\n",
      "Model:                          Logit   Df Residuals:                   482946\n",
      "Method:                           MLE   Df Model:                           14\n",
      "Date:                Wed, 31 Jan 2018   Pseudo R-squ.:                 0.07941\n",
      "Time:                        21:12:02   Log-Likelihood:            -2.6121e+05\n",
      "converged:                       True   LL-Null:                   -2.8374e+05\n",
      "                                        LLR p-value:                     0.000\n",
      "=========================================================================================\n",
      "                            coef    std err          z      P>|z|      [0.025      0.975]\n",
      "-----------------------------------------------------------------------------------------\n",
      "iforderpv_24h             0.6520      0.008     79.921      0.000       0.636       0.668\n",
      "ordercanncelednum        -0.0159      0.005     -3.522      0.000      -0.025      -0.007\n",
      "ordernum_oneyear          0.2839      0.006     48.768      0.000       0.272       0.295\n",
      "cr_pre                   -1.0453      0.016    -63.659      0.000      -1.078      -1.013\n",
      "lowestprice              -0.1843      0.007    -27.035      0.000      -0.198      -0.171\n",
      "commentnums_pre           0.0619      0.004     14.298      0.000       0.053       0.070\n",
      "customer_value_profit     0.0488      0.004     11.751      0.000       0.041       0.057\n",
      "uv_pre2                  -0.1020      0.005    -19.759      0.000      -0.112      -0.092\n",
      "lasthtlordergap          -0.2043      0.004    -47.722      0.000      -0.213      -0.196\n",
      "businessrate_pre2         0.1136      0.004     31.816      0.000       0.107       0.121\n",
      "cityuvs                   0.0937      0.003     27.797      0.000       0.087       0.100\n",
      "cr                        0.1949      0.005     37.998      0.000       0.185       0.205\n",
      "visitnum_oneyear         -0.2629      0.004    -61.237      0.000      -0.271      -0.254\n",
      "h                        -0.1895      0.004    -45.904      0.000      -0.198      -0.181\n",
      "chr                      -0.3064      0.005    -65.711      0.000      -0.316      -0.297\n",
      "=========================================================================================\n",
      "522445.629352\n",
      "522444.747672\n"
     ]
    }
   ],
   "source": [
    "# #重新定义自变量与目标变量，剔除表现不好的变量hotelcr\n",
    "# X2 = df[['iforderpv_24h','ordercanncelednum', \n",
    "#         'ordernum_oneyear', 'cr_pre',\n",
    "#        'lowestprice', \n",
    "#        'commentnums_pre', 'customer_value_profit', \n",
    "#        'uv_pre2',\n",
    "#         'lasthtlordergap', 'businessrate_pre2', 'cityuvs',\n",
    "#         'cr', 'visitnum_oneyear', 'h',  'chr']]\n",
    "# y2 = df[\"label\"]\n",
    "\n",
    "# #构建训练集与测试集\n",
    "# from sklearn.cross_validation import train_test_split \n",
    "# X2_train,X2_test,y2_train,y2_test = train_test_split(X2, y2,test_size = 0.3,random_state=1) \n",
    "\n",
    "# # 根据训练集重新构建Logistic分类器\n",
    "# logistic2 = smf.Logit(y2_train,X2_train).fit()\n",
    "# print(logistic2.summary())\n",
    "\n",
    "# print(logistic.aic)\n",
    "# print(logistic2.aic)\n"
   ]
  },
  {
   "cell_type": "code",
   "execution_count": 22,
   "metadata": {},
   "outputs": [
    {
     "data": {
      "text/plain": [
       "iforderpv_24h            1.919433\n",
       "ordercanncelednum        0.984252\n",
       "ordernum_oneyear         1.328239\n",
       "cr_pre                   0.351569\n",
       "lowestprice              0.831725\n",
       "commentnums_pre          1.063805\n",
       "customer_value_profit    1.050025\n",
       "uv_pre2                  0.903024\n",
       "lasthtlordergap          0.815208\n",
       "businessrate_pre2        1.120270\n",
       "cityuvs                  1.098197\n",
       "cr                       1.215200\n",
       "visitnum_oneyear         0.768847\n",
       "h                        0.827340\n",
       "chr                      0.736115\n",
       "dtype: float64"
      ]
     },
     "execution_count": 22,
     "metadata": {},
     "output_type": "execute_result"
    }
   ],
   "source": [
    "# np.exp(logistic2.params)"
   ]
  },
  {
   "cell_type": "code",
   "execution_count": 23,
   "metadata": {},
   "outputs": [
    {
     "name": "stdout",
     "output_type": "stream",
     "text": [
      "[[143670   6438]\n",
      " [ 48012   8864]]\n",
      "0.736936188304\n"
     ]
    }
   ],
   "source": [
    "# # 根据分类器，在测试集上预测概率\n",
    "# prob2 = logistic2.predict(exog = X2_test)\n",
    "# # 根据概率值，将观测进行分类，以0.5作为阈值\n",
    "# y2_pred = np.where(prob2 >= 0.5, 1, 0)\n",
    "\n",
    "# # 根据预测值和实际值构建混淆矩阵\n",
    "# cm2 = metrics.confusion_matrix(y2_test, y2_pred, labels=[0,1])\n",
    "# print(cm2)\n",
    "# # 计算模型的准确率\n",
    "# accuracy2 = cm2.diagonal().sum()/cm2.sum()\n",
    "# print(accuracy2)"
   ]
  },
  {
   "cell_type": "code",
   "execution_count": 20,
   "metadata": {},
   "outputs": [
    {
     "data": {
      "image/png": "[encoded data removed]",
      "text/plain": [
       "<matplotlib.figure.Figure at 0x1b9cd9b0>"
      ]
     },
     "metadata": {},
     "output_type": "display_data"
    },
    {
     "data": {
      "text/plain": [
       "<ggplot: (28954025)>"
      ]
     },
     "execution_count": 20,
     "metadata": {},
     "output_type": "execute_result"
    }
   ],
   "source": [
    "# 绘制ROC曲线\n",
    "fpr, tpr, _ = metrics.roc_curve(y_test, y_pred)\n",
    "df1 = pd.DataFrame(dict(fpr=fpr, tpr=tpr))\n",
    "\n",
    "ggplot(df1, aes(x='fpr', y='tpr')) +\\\n",
    "    geom_area(alpha=0.5, fill = 'steelblue') +\\\n",
    "    geom_line() +\\\n",
    "    geom_abline(linetype='dashed',color = 'red') +\\\n",
    "    labs(x = '1-specificity', y = 'Sensitivity',title = 'ROC Curve AUC=%.3f' % metrics.auc(fpr,tpr))"
   ]
  },
  {
   "cell_type": "markdown",
   "metadata": {
    "collapsed": true
   },
   "source": [
    "#模型调参"
   ]
  },
  {
   "cell_type": "code",
   "execution_count": 21,
   "metadata": {},
   "outputs": [
    {
     "data": {
      "text/plain": [
       "0.73721157190893982"
      ]
     },
     "execution_count": 21,
     "metadata": {},
     "output_type": "execute_result"
    }
   ],
   "source": [
    "from sklearn.linear_model import LogisticRegression\n",
    "\n",
    "clf = LogisticRegression()#调用Logistic算法\n",
    "\n",
    "clf.fit(X_train,y_train)#使用Logistic算法,默认参数训练测试数据\n",
    "\n",
    "clf.score(X_test,y_test)#在测试机上进行预测，可以得到预测测试数据结果和测试数据结果的分数（默认分数是通过准确率进行评估）\n"
   ]
  },
  {
   "cell_type": "code",
   "execution_count": 22,
   "metadata": {},
   "outputs": [
    {
     "name": "stderr",
     "output_type": "stream",
     "text": [
      "C:\\ProgramData\\Anaconda3\\lib\\site-packages\\sklearn\\grid_search.py:42: DeprecationWarning: This module was deprecated in version 0.18 in favor of the model_selection module into which all the refactored classes and functions are moved. This module will be removed in 0.20.\n",
      "  DeprecationWarning)\n"
     ]
    },
    {
     "name": "stdout",
     "output_type": "stream",
     "text": [
      "Fitting 2 folds for each of 9 candidates, totalling 18 fits\n"
     ]
    },
    {
     "name": "stderr",
     "output_type": "stream",
     "text": [
      "[Parallel(n_jobs=1)]: Done  18 out of  18 | elapsed:   16.7s finished\n"
     ]
    },
    {
     "data": {
      "text/plain": [
       "{'C': 0.1, 'max_iter': 100}"
      ]
     },
     "execution_count": 22,
     "metadata": {},
     "output_type": "execute_result"
    }
   ],
   "source": [
    "from sklearn.grid_search import GridSearchCV#导入相应得包进行参数指定\n",
    "\n",
    "param = {\"C\":[0.01,0.05,0.1],\"max_iter\":[100,200,300]} #通过字典的形式，导入参数都有哪些测试值\n",
    "\n",
    "gsc = GridSearchCV(clf,param,scoring=\"accuracy\",cv=2,verbose=1)#设置算法，模型参数，计算折数，是否显示\n",
    "\n",
    "gsc.fit(X_train,y_train)#使用设定好的算法及模型参数训练模型\n",
    "\n",
    "gsc.grid_scores_#查看每种参数的分数是多少\n",
    "\n",
    "gsc.best_params_#选择分数最高的参数组合"
   ]
  },
  {
   "cell_type": "code",
   "execution_count": 23,
   "metadata": {
    "collapsed": true
   },
   "outputs": [],
   "source": [
    "from sklearn.metrics import precision_recall_curve#导入相关包计算precision和recall\n",
    "\n",
    "prob=gsc.predict_proba(X_test)#计算出测试数据出现的概率\n",
    "\n",
    "precision,recall,thre=precision_recall_curve(y_test,prob[:,1])#会得到不同阈值所对应的precision和recall"
   ]
  },
  {
   "cell_type": "code",
   "execution_count": 24,
   "metadata": {},
   "outputs": [
    {
     "data": {
      "image/png": "[encoded data removed]",
      "text/plain": [
       "<matplotlib.figure.Figure at 0xc015be0>"
      ]
     },
     "metadata": {},
     "output_type": "display_data"
    }
   ],
   "source": [
    "#画出precision（纵轴）和recall（横轴）图\n",
    "plt.plot(recall,precision)\n",
    "plt.title(\"precision/recall graphs\")\n",
    "plt.xlabel(\"recall\")\n",
    "plt.ylabel(\"precision\")\n",
    "plt.show()\n"
   ]
  },
  {
   "cell_type": "code",
   "execution_count": 25,
   "metadata": {
    "scrolled": true
   },
   "outputs": [
    {
     "name": "stdout",
     "output_type": "stream",
     "text": [
      "             precision    recall  f1-score   support\n",
      "\n",
      "          0       0.75      0.96      0.84    150108\n",
      "          1       0.58      0.16      0.25     56876\n",
      "\n",
      "avg / total       0.70      0.74      0.68    206984\n",
      "\n"
     ]
    }
   ],
   "source": [
    "from sklearn.metrics import classification_report#查看模型计算结果\n",
    "\n",
    "print(classification_report(y_test,gsc.predict(X_test)))#查看阈值在0.5时的precision和recall值，f1值是对于precision和recall值的综合考量"
   ]
  },
  {
   "cell_type": "markdown",
   "metadata": {},
   "source": [
    "## 随机森林"
   ]
  },
  {
   "cell_type": "code",
   "execution_count": 15,
   "metadata": {},
   "outputs": [
    {
     "data": {
      "text/plain": [
       "RandomForestClassifier(bootstrap=True, class_weight=None, criterion='gini',\n",
       "            max_depth=None, max_features='auto', max_leaf_nodes=None,\n",
       "            min_impurity_decrease=0.0, min_impurity_split=None,\n",
       "            min_samples_leaf=1, min_samples_split=2,\n",
       "            min_weight_fraction_leaf=0.0, n_estimators=100, n_jobs=-1,\n",
       "            oob_score=True, random_state=42, verbose=0, warm_start=False)"
      ]
     },
     "execution_count": 15,
     "metadata": {},
     "output_type": "execute_result"
    }
   ],
   "source": [
    "from sklearn.ensemble import RandomForestClassifier\n",
    "model = RandomForestClassifier(n_estimators=100, oob_score=True,n_jobs=-1, random_state=42)\n",
    "model.fit(X_train, y_train)"
   ]
  },
  {
   "cell_type": "code",
   "execution_count": 17,
   "metadata": {
    "collapsed": true
   },
   "outputs": [],
   "source": [
    "from sklearn import metrics\n",
    "def measure_performance(X,y,clf, show_accuracy=True, \n",
    "                        show_classification_report=True, \n",
    "                        show_confusion_matrix=True):\n",
    "    y_pred=clf.predict(X)   \n",
    "    if show_accuracy:\n",
    "        print(\"Accuracy:{0:.3f}\".format(metrics.accuracy_score(y,y_pred)),\"\\n\")\n",
    "\n",
    "    if show_classification_report:\n",
    "        print(\"Classification report\")\n",
    "        print(metrics.classification_report(y,y_pred),\"\\n\")\n",
    "\n",
    "    if show_confusion_matrix:\n",
    "        print(\"Confusion matrix\")\n",
    "        print(metrics.confusion_matrix(y,y_pred),\"\\n\")\n"
   ]
  },
  {
   "cell_type": "code",
   "execution_count": 18,
   "metadata": {},
   "outputs": [
    {
     "name": "stdout",
     "output_type": "stream",
     "text": [
      "Accuracy:0.905 \n",
      "\n",
      "Classification report\n",
      "             precision    recall  f1-score   support\n",
      "\n",
      "          0       0.89      0.99      0.94    150108\n",
      "          1       0.95      0.69      0.80     56876\n",
      "\n",
      "avg / total       0.91      0.90      0.90    206984\n",
      " \n",
      "\n",
      "Confusion matrix\n",
      "[[148066   2042]\n",
      " [ 17636  39240]] \n",
      "\n"
     ]
    }
   ],
   "source": [
    "measure_performance(X_test,y_test,model, show_classification_report=True, show_confusion_matrix=True)\n"
   ]
  },
  {
   "cell_type": "code",
   "execution_count": 27,
   "metadata": {},
   "outputs": [
    {
     "data": {
      "text/plain": [
       "0.89974759866738718"
      ]
     },
     "execution_count": 27,
     "metadata": {},
     "output_type": "execute_result"
    }
   ],
   "source": [
    "model.oob_score_"
   ]
  },
  {
   "cell_type": "code",
   "execution_count": 29,
   "metadata": {
    "scrolled": false
   },
   "outputs": [
    {
     "data": {
      "text/plain": [
       "<matplotlib.axes._subplots.AxesSubplot at 0xc2dc6d8>"
      ]
     },
     "execution_count": 29,
     "metadata": {},
     "output_type": "execute_result"
    },
    {
     "data": {
      "image/png": "[encoded data removed]",
      "text/plain": [
       "<matplotlib.figure.Figure at 0xc1dfa90>"
      ]
     },
     "metadata": {},
     "output_type": "display_data"
    }
   ],
   "source": [
    "feature_importances = pd.Series(model.feature_importances_, index=X.columns)\n",
    "feature_importances.sort_values(ascending = False)\n",
    "feature_importances.plot(kind=\"barh\", figsize=(15,10))\n"
   ]
  },
  {
   "cell_type": "code",
   "execution_count": 20,
   "metadata": {},
   "outputs": [
    {
     "data": {
      "image/png": "[encoded data removed]",
      "text/plain": [
       "<matplotlib.figure.Figure at 0xbdf3828>"
      ]
     },
     "metadata": {},
     "output_type": "display_data"
    }
   ],
   "source": [
    "import matplotlib.pyplot as plt\n",
    "feature_importance = model.feature_importances_\n",
    "important_features = X.columns.values[0::]\n",
    "feature_importance = 100.0 * (feature_importance / feature_importance.max())\n",
    "sorted_idx = np.argsort(feature_importance)[::-1]\n",
    "pos = np.arange(sorted_idx.shape[0]) + .5\n",
    "\n",
    "plt.title('Feature Importance')\n",
    "plt.barh(pos, feature_importance[sorted_idx[::-1]], color='blue',align='center')\n",
    "plt.yticks(pos, important_features)\n",
    "plt.xlabel('Relative Importance')\n",
    "plt.draw()\n",
    "plt.show()\n"
   ]
  },
  {
   "cell_type": "code",
   "execution_count": 52,
   "metadata": {
    "collapsed": true
   },
   "outputs": [],
   "source": [
    "from sklearn.ensemble import RandomForestRegressor\n",
    "\n",
    "from sklearn import metrics"
   ]
  },
  {
   "cell_type": "code",
   "execution_count": 57,
   "metadata": {},
   "outputs": [
    {
     "name": "stdout",
     "output_type": "stream",
     "text": [
      "30 trees\n",
      "C-stat:  0.932545510566\n",
      "\n",
      "50 trees\n",
      "C-stat:  0.943423348664\n",
      "\n",
      "100 trees\n",
      "C-stat:  0.951392447005\n",
      "\n",
      "200 trees\n",
      "C-stat:  0.955393935118\n",
      "\n",
      "500 trees\n",
      "C-stat:  0.957918505344\n",
      "\n",
      "800 trees\n",
      "C-stat:  0.958502568286\n",
      "\n",
      "1000 trees\n",
      "C-stat:  0.958737466393\n",
      "\n"
     ]
    },
    {
     "data": {
      "text/plain": [
       "<matplotlib.axes._subplots.AxesSubplot at 0x50390cf8>"
      ]
     },
     "execution_count": 57,
     "metadata": {},
     "output_type": "execute_result"
    },
    {
     "data": {
      "image/png": "[encoded data removed]",
      "text/plain": [
       "<matplotlib.figure.Figure at 0x503909e8>"
      ]
     },
     "metadata": {},
     "output_type": "display_data"
    }
   ],
   "source": [
    "results = []\n",
    "n_estimator_options = [30,50,100,200,500,800,1000]\n",
    "\n",
    "for trees in n_estimator_options:\n",
    "    model = RandomForestRegressor(trees, oob_score=True, n_jobs=-1, random_state=42)\n",
    "    model.fit(X_train, y_train)\n",
    "    print(trees, \"trees\")\n",
    "    roc = metrics.roc_auc_score(y_train, model.oob_prediction_)\n",
    "    print(\"C-stat: \", roc)\n",
    "    results.append(roc)\n",
    "    print (\"\")\n",
    "    \n",
    "pd.Series(results, n_estimator_options).plot()\n"
   ]
  },
  {
   "cell_type": "markdown",
   "metadata": {},
   "source": [
    "## 决策树模型"
   ]
  },
  {
   "cell_type": "code",
   "execution_count": 30,
   "metadata": {
    "collapsed": true
   },
   "outputs": [],
   "source": [
    "from sklearn import tree"
   ]
  },
  {
   "cell_type": "code",
   "execution_count": 31,
   "metadata": {
    "collapsed": true
   },
   "outputs": [],
   "source": [
    "clf = tree.DecisionTreeClassifier()\n",
    "clf = clf.fit(X_train, y_train)"
   ]
  },
  {
   "cell_type": "code",
   "execution_count": 32,
   "metadata": {},
   "outputs": [
    {
     "data": {
      "text/plain": [
       "0.85131701001043558"
      ]
     },
     "execution_count": 32,
     "metadata": {},
     "output_type": "execute_result"
    }
   ],
   "source": [
    "clf.score(X_test,y_test)"
   ]
  },
  {
   "cell_type": "code",
   "execution_count": 33,
   "metadata": {
    "collapsed": true
   },
   "outputs": [],
   "source": [
    "y_pred = clf.predict(X_test)"
   ]
  },
  {
   "cell_type": "code",
   "execution_count": 34,
   "metadata": {},
   "outputs": [
    {
     "data": {
      "text/plain": [
       "array([0, 0, 0, ..., 0, 0, 0], dtype=int64)"
      ]
     },
     "execution_count": 34,
     "metadata": {},
     "output_type": "execute_result"
    }
   ],
   "source": [
    "y_pred"
   ]
  },
  {
   "cell_type": "code",
   "execution_count": 35,
   "metadata": {},
   "outputs": [
    {
     "name": "stdout",
     "output_type": "stream",
     "text": [
      "             precision    recall  f1-score   support\n",
      "\n",
      "          0       0.90      0.89      0.90    150108\n",
      "          1       0.72      0.74      0.73     56876\n",
      "\n",
      "avg / total       0.85      0.85      0.85    206984\n",
      "\n"
     ]
    }
   ],
   "source": [
    "from sklearn.metrics import classification_report\n",
    "print(classification_report(y_test, y_pred))"
   ]
  }
 ],
 "metadata": {
  "kernelspec": {
   "display_name": "Python 3",
   "language": "python",
   "name": "python3"
  },
  "language_info": {
   "codemirror_mode": {
    "name": "ipython",
    "version": 3
   },
   "file_extension": ".py",
   "mimetype": "text/x-python",
   "name": "python",
   "nbconvert_exporter": "python",
   "pygments_lexer": "ipython3",
   "version": "3.6.3"
  }
 },
 "nbformat": 4,
 "nbformat_minor": 2
}
